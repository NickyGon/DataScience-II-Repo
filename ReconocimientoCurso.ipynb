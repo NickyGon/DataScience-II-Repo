{
 "cells": [
  {
   "cell_type": "code",
   "execution_count": 1,
   "id": "b26758cf",
   "metadata": {},
   "outputs": [],
   "source": [
    "import numpy as np\n",
    "import pandas as pd\n",
    "import matplotlib.pyplot as plt\n",
    "import tensorflow as tf\n",
    "import cv2\n",
    "import os\n",
    "import random as rd"
   ]
  },
  {
   "cell_type": "code",
   "execution_count": 2,
   "id": "dfb99db2",
   "metadata": {},
   "outputs": [],
   "source": [
    "direccion=r'C:\\Users\\Nicole\\DataScience\\Photos'\n",
    "train=[]\n",
    "test=[]\n",
    "for i in os.listdir(direccion):\n",
    "    file=os.path.join(direccion,i)\n",
    "    label=i\n",
    "    k=0\n",
    "    for j in os.listdir(file):\n",
    "        archivo=os.path.join(file,j)\n",
    "        imagen=cv2.imread(archivo)\n",
    "        imagen=cv2.resize(imagen, (600,800))\n",
    "        if k<10:\n",
    "            train.append([imagen,label])\n",
    "            #plt.imshow(imagen)\n",
    "            #plt.show()\n",
    "            k+=1\n",
    "            #break\n",
    "        else :\n",
    "            test.append([imagen,label])\n"
   ]
  },
  {
   "cell_type": "code",
   "execution_count": 3,
   "id": "2d5eed89",
   "metadata": {},
   "outputs": [],
   "source": [
    "rd.shuffle(train)\n",
    "rd.shuffle(test)\n",
    "X_train=[]\n",
    "Y_train=[]\n",
    "X_test=[]\n",
    "Y_test=[]\n",
    "for imagenes, etiquetas in train:\n",
    "    X_train.append(imagenes.astype('float'))\n",
    "    Y_train.append(int(etiquetas)-1)\n",
    "for imagenes, etiquetas in test:\n",
    "    X_test.append(imagenes.astype('float'))\n",
    "    Y_test.append(int(etiquetas)-1)\n",
    "X_train=np.array(X_train)\n",
    "#X_train=X_train.reshape((-1,750,1000,3))\n",
    "Y_train=np.array(Y_train)\n",
    "X_test=np.array(X_test)\n",
    "Y_test=np.array(Y_test)"
   ]
  },
  {
   "cell_type": "code",
   "execution_count": 4,
   "id": "49cfe1df",
   "metadata": {
    "scrolled": true
   },
   "outputs": [
    {
     "name": "stderr",
     "output_type": "stream",
     "text": [
      "Clipping input data to the valid range for imshow with RGB data ([0..1] for floats or [0..255] for integers).\n"
     ]
    },
    {
     "data": {
      "image/png": "[encoded data removed]",
      "text/plain": [
       "<Figure size 640x480 with 1 Axes>"
      ]
     },
     "metadata": {},
     "output_type": "display_data"
    },
    {
     "name": "stdout",
     "output_type": "stream",
     "text": [
      "7\n"
     ]
    }
   ],
   "source": [
    "plt.imshow(X_train[5])\n",
    "plt.show()\n",
    "print(Y_train[5])"
   ]
  },
  {
   "cell_type": "code",
   "execution_count": 5,
   "id": "8c0c8633",
   "metadata": {},
   "outputs": [
    {
     "name": "stderr",
     "output_type": "stream",
     "text": [
      "Clipping input data to the valid range for imshow with RGB data ([0..1] for floats or [0..255] for integers).\n"
     ]
    },
    {
     "data": {
      "image/png": "[encoded data removed]",
      "text/plain": [
       "<Figure size 640x480 with 1 Axes>"
      ]
     },
     "metadata": {},
     "output_type": "display_data"
    },
    {
     "name": "stdout",
     "output_type": "stream",
     "text": [
      "6\n"
     ]
    }
   ],
   "source": [
    "plt.imshow(X_test[4])\n",
    "plt.show()\n",
    "print(Y_test[4])"
   ]
  },
  {
   "cell_type": "code",
   "execution_count": 6,
   "id": "30d1fcf6",
   "metadata": {},
   "outputs": [
    {
     "name": "stdout",
     "output_type": "stream",
     "text": [
      "4/4 [==============================] - 56s 14s/step - loss: 12616.5195 - accuracy: 0.1000\n"
     ]
    },
    {
     "data": {
      "text/plain": [
       "<tensorflow.python.keras.callbacks.History at 0x200f314ea30>"
      ]
     },
     "execution_count": 6,
     "metadata": {},
     "output_type": "execute_result"
    }
   ],
   "source": [
    "modelo=tf.keras.models.Sequential()\n",
    "modelo.add(tf.keras.layers.Conv2D(50,(5,5),activation='relu'))\n",
    "modelo.add(tf.keras.layers.MaxPooling2D((3,3),strides=2))\n",
    "modelo.add(tf.keras.layers.Conv2D(50,(3,3),activation='relu'))\n",
    "modelo.add(tf.keras.layers.MaxPooling2D((2,2),strides=2))\n",
    "modelo.add(tf.keras.layers.Flatten())\n",
    "modelo.add(tf.keras.layers.Dense(50,activation='relu', input_shape=(150,200,3)))          \n",
    "modelo.add(tf.keras.layers.Dense(11,activation='softmax'))\n",
    "modelo.compile(optimizer='adam', loss='sparse_categorical_crossentropy', metrics='accuracy')\n",
    "modelo.fit(X_train,Y_train ,epochs=1)"
   ]
  },
  {
   "cell_type": "code",
   "execution_count": 7,
   "id": "e8f91539",
   "metadata": {},
   "outputs": [
    {
     "name": "stdout",
     "output_type": "stream",
     "text": [
      "Epoch 1/5\n",
      "4/4 [==============================] - 179s 45s/step - loss: 2490.9702 - accuracy: 0.1400\n",
      "Epoch 2/5\n",
      "4/4 [==============================] - 297s 74s/step - loss: 575.4256 - accuracy: 0.1000\n",
      "Epoch 3/5\n",
      "4/4 [==============================] - 586s 146s/step - loss: 21.1177 - accuracy: 0.4200\n",
      "Epoch 4/5\n",
      "4/4 [==============================] - 52s 13s/step - loss: 1.4047 - accuracy: 0.8100\n",
      "Epoch 5/5\n",
      "4/4 [==============================] - 33s 8s/step - loss: 0.4366 - accuracy: 0.8900\n"
     ]
    },
    {
     "data": {
      "text/plain": [
       "<tensorflow.python.keras.callbacks.History at 0x2009263c340>"
      ]
     },
     "execution_count": 7,
     "metadata": {},
     "output_type": "execute_result"
    }
   ],
   "source": [
    "modelo.fit(X_train,Y_train ,epochs=5)"
   ]
  },
  {
   "cell_type": "code",
   "execution_count": 8,
   "id": "5d42c34f",
   "metadata": {},
   "outputs": [
    {
     "name": "stdout",
     "output_type": "stream",
     "text": [
      "1/1 [==============================] - 0s 5ms/step - loss: 2.2409 - accuracy: 0.5333\n"
     ]
    },
    {
     "data": {
      "text/plain": [
       "[2.2408907413482666, 0.5333333611488342]"
      ]
     },
     "execution_count": 8,
     "metadata": {},
     "output_type": "execute_result"
    }
   ],
   "source": [
    "modelo.evaluate(X_test,Y_test)"
   ]
  },
  {
   "cell_type": "code",
   "execution_count": null,
   "id": "1a31a416",
   "metadata": {},
   "outputs": [],
   "source": []
  },
  {
   "cell_type": "code",
   "execution_count": null,
   "id": "2ddcec20",
   "metadata": {},
   "outputs": [],
   "source": [
    "modelo=tf.keras.models.Sequential()\n",
    "modelo.add(tf.keras.layers.Conv2D(50,(10,10),activation='relu'))\n",
    "modelo.add(tf.keras.layers.MaxPooling2D((3,3),strides=2))\n",
    "modelo.add(tf.keras.layers.Conv2D(50,(5,5),activation='relu'))\n",
    "modelo.add(tf.keras.layers.MaxPooling2D((2,2),strides=2))\n",
    "modelo.add(tf.keras.layers.Flatten())\n",
    "modelo.add(tf.keras.layers.Dense(150,activation='relu', input_shape=(600,800,3)))          \n",
    "modelo.add(tf.keras.layers.Dense(11,activation='softmax'))\n",
    "modelo.compile(optimizer='adam', loss='sparse_categorical_crossentropy', metrics='accuracy')\n",
    "modelo.fit(X_train,Y_train ,epochs=1)"
   ]
  },
  {
   "cell_type": "code",
   "execution_count": null,
   "id": "d63622e3",
   "metadata": {},
   "outputs": [],
   "source": [
    "modelo.fit(X_train,Y_train ,epochs=5)"
   ]
  },
  {
   "cell_type": "code",
   "execution_count": null,
   "id": "101cd993",
   "metadata": {},
   "outputs": [],
   "source": [
    "modelo.evaluate(X_test,Y_test)"
   ]
  },
  {
   "cell_type": "code",
   "execution_count": null,
   "id": "2c97675a",
   "metadata": {},
   "outputs": [],
   "source": [
    "X_test[0].shape"
   ]
  },
  {
   "cell_type": "code",
   "execution_count": null,
   "id": "d9380ea7",
   "metadata": {},
   "outputs": [],
   "source": [
    "imagen=X_test[0].reshape((-1,600,800,3))\n",
    "np.argmax(modelo.predict(imagen)), modelo.predict(imagen), Y_test[0]"
   ]
  },
  {
   "cell_type": "code",
   "execution_count": null,
   "id": "bf80033f",
   "metadata": {},
   "outputs": [],
   "source": [
    "for i in range(len(Y_test)):\n",
    "    plt.imshow(X_test[i]/255)\n",
    "    plt.show()\n",
    "    imagen=X_test[i].reshape((-1,600,800,3))\n",
    "    cont=0\n",
    "    if np.argmax(modelo.predict(imagen))==Y_test[0]:\n",
    "        cont=cont+1\n",
    "    print(np.argmax(modelo.predict(imagen)), modelo.predict(imagen), Y_test[i])\n",
    "print(\"Aciertos: \",cont/len(Y_test))"
   ]
  },
  {
   "cell_type": "code",
   "execution_count": null,
   "id": "339fc333",
   "metadata": {},
   "outputs": [],
   "source": []
  }
 ],
 "metadata": {
  "kernelspec": {
   "display_name": "Python 3 (ipykernel)",
   "language": "python",
   "name": "python3"
  },
  "language_info": {
   "codemirror_mode": {
    "name": "ipython",
    "version": 3
   },
   "file_extension": ".py",
   "mimetype": "text/x-python",
   "name": "python",
   "nbconvert_exporter": "python",
   "pygments_lexer": "ipython3",
   "version": "3.8.5"
  }
 },
 "nbformat": 4,
 "nbformat_minor": 5
}
