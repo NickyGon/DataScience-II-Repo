{
 "cells": [
  {
   "cell_type": "code",
   "execution_count": 5,
   "id": "78194d25",
   "metadata": {},
   "outputs": [],
   "source": [
    "import pandas as pd\n",
    "import numpy as np\n",
    "import matplotlib.pyplot as plt"
   ]
  },
  {
   "cell_type": "markdown",
   "id": "26249bec",
   "metadata": {},
   "source": [
    "### Regresiones"
   ]
  },
  {
   "cell_type": "markdown",
   "id": "943daf54",
   "metadata": {},
   "source": [
    "Nuestro problema ahora es el siguiente:\n",
    "$$f(x_1,x_2,...,x_n)\\simeq y$$"
   ]
  },
  {
   "cell_type": "markdown",
   "id": "497add83",
   "metadata": {},
   "source": [
    "Transformamos ese problema al siguiente\n",
    "\n",
    "$$\\lVert f(x_1,x_2,...,x_n)-y\\rVert \\rightarrow \\min$$"
   ]
  },
  {
   "cell_type": "markdown",
   "id": "64485e1e",
   "metadata": {},
   "source": [
    "Vamos a realizar la prueba en el caso lineal a una sola variable\n",
    "\n",
    "\n",
    "$$\\lVert Ax-y\\rVert \\rightarrow \\min$$"
   ]
  },
  {
   "cell_type": "markdown",
   "id": "647be491",
   "metadata": {},
   "source": [
    "Si llamamos\n",
    "\n",
    "$$g(x)=\\lVert Ax-y\\rVert^2 $$"
   ]
  },
  {
   "cell_type": "markdown",
   "id": "ad1437d5",
   "metadata": {},
   "source": [
    "Entonces\n",
    "\n",
    "$$g(x)=(Ax-y)^T(Ax-y)=(x^TA^T-y^T)(Ax-y)=x^TA^TAx-x^TA^Ty-y^TAx+y^Ty$$"
   ]
  },
  {
   "cell_type": "markdown",
   "id": "e445098d",
   "metadata": {},
   "source": [
    "Rem: $$(x^TA^Ty)^T=y^TAx$$\n",
    "\n",
    "Lo que implica\n",
    "\n",
    "$$g(x)=x^TA^TAx-2x^TA^Ty+y^Ty$$"
   ]
  },
  {
   "cell_type": "markdown",
   "id": "b5ad14c7",
   "metadata": {},
   "source": [
    "Derivando tenemos\n",
    "\n",
    "$$g'(x)=2A^TAx-2A^Ty=0$$"
   ]
  },
  {
   "cell_type": "markdown",
   "id": "7ee669a2",
   "metadata": {},
   "source": [
    "Esto nos da una condición\n",
    "\n",
    "$$A^TAx=A^Ty$$"
   ]
  },
  {
   "cell_type": "markdown",
   "id": "40c74153",
   "metadata": {},
   "source": [
    "Como $A$ es una función lineal tenemos que el valor será mínimo y no máximo."
   ]
  },
  {
   "cell_type": "markdown",
   "id": "3574a2c0",
   "metadata": {},
   "source": [
    "Rem: A esta ecuación se denomina ecuación normal del sistema."
   ]
  },
  {
   "cell_type": "markdown",
   "id": "01a405db",
   "metadata": {},
   "source": [
    "Para hacer una regresión lineal tenemos\n",
    "\n",
    "$$f(x)=\\alpha x+\\beta$$"
   ]
  },
  {
   "cell_type": "markdown",
   "id": "f2d9d2ce",
   "metadata": {},
   "source": [
    "Escencialmente vamos a tener \n",
    "\n",
    "$$\\begin{array}{rcl}\\alpha x_1 +\\beta &=&y_1\\\\ \\alpha x_2 +\\beta &=&y_2 \\\\ ...&=&...\\\\\\alpha x_n +\\beta &=&y_n\\end{array}$$"
   ]
  },
  {
   "cell_type": "markdown",
   "id": "3d14dfc9",
   "metadata": {},
   "source": [
    "Lo que nos da el sistema siguiente\n",
    "\n",
    "$$\\begin{bmatrix}x_1&1\\\\x_2&1\\\\\\vdots&\\vdots \\\\x_n&1\\end{bmatrix}\\begin{bmatrix}\\alpha\\\\ \\beta\\end{bmatrix}=\\begin{bmatrix}y_1\\\\y_2 \\\\\\vdots \\\\y_n\\end{bmatrix}$$"
   ]
  },
  {
   "cell_type": "code",
   "execution_count": 7,
   "id": "6fe15c49",
   "metadata": {},
   "outputs": [
    {
     "data": {
      "text/html": [
       "<div>\n",
       "<style scoped>\n",
       "    .dataframe tbody tr th:only-of-type {\n",
       "        vertical-align: middle;\n",
       "    }\n",
       "\n",
       "    .dataframe tbody tr th {\n",
       "        vertical-align: top;\n",
       "    }\n",
       "\n",
       "    .dataframe thead th {\n",
       "        text-align: right;\n",
       "    }\n",
       "</style>\n",
       "<table border=\"1\" class=\"dataframe\">\n",
       "  <thead>\n",
       "    <tr style=\"text-align: right;\">\n",
       "      <th></th>\n",
       "      <th>TV</th>\n",
       "      <th>Radio</th>\n",
       "      <th>Newspaper</th>\n",
       "      <th>Sales</th>\n",
       "    </tr>\n",
       "  </thead>\n",
       "  <tbody>\n",
       "    <tr>\n",
       "      <th>0</th>\n",
       "      <td>230.1</td>\n",
       "      <td>37.8</td>\n",
       "      <td>69.2</td>\n",
       "      <td>22.1</td>\n",
       "    </tr>\n",
       "    <tr>\n",
       "      <th>1</th>\n",
       "      <td>44.5</td>\n",
       "      <td>39.3</td>\n",
       "      <td>45.1</td>\n",
       "      <td>10.4</td>\n",
       "    </tr>\n",
       "    <tr>\n",
       "      <th>2</th>\n",
       "      <td>17.2</td>\n",
       "      <td>45.9</td>\n",
       "      <td>69.3</td>\n",
       "      <td>9.3</td>\n",
       "    </tr>\n",
       "    <tr>\n",
       "      <th>3</th>\n",
       "      <td>151.5</td>\n",
       "      <td>41.3</td>\n",
       "      <td>58.5</td>\n",
       "      <td>18.5</td>\n",
       "    </tr>\n",
       "    <tr>\n",
       "      <th>4</th>\n",
       "      <td>180.8</td>\n",
       "      <td>10.8</td>\n",
       "      <td>58.4</td>\n",
       "      <td>12.9</td>\n",
       "    </tr>\n",
       "  </tbody>\n",
       "</table>\n",
       "</div>"
      ],
      "text/plain": [
       "      TV  Radio  Newspaper  Sales\n",
       "0  230.1   37.8       69.2   22.1\n",
       "1   44.5   39.3       45.1   10.4\n",
       "2   17.2   45.9       69.3    9.3\n",
       "3  151.5   41.3       58.5   18.5\n",
       "4  180.8   10.8       58.4   12.9"
      ]
     },
     "execution_count": 7,
     "metadata": {},
     "output_type": "execute_result"
    }
   ],
   "source": [
    "D=pd.read_csv('Advertising.csv')\n",
    "D.head()"
   ]
  },
  {
   "cell_type": "code",
   "execution_count": 8,
   "id": "60ab6ff5",
   "metadata": {},
   "outputs": [
    {
     "data": {
      "text/html": [
       "<div>\n",
       "<style scoped>\n",
       "    .dataframe tbody tr th:only-of-type {\n",
       "        vertical-align: middle;\n",
       "    }\n",
       "\n",
       "    .dataframe tbody tr th {\n",
       "        vertical-align: top;\n",
       "    }\n",
       "\n",
       "    .dataframe thead th {\n",
       "        text-align: right;\n",
       "    }\n",
       "</style>\n",
       "<table border=\"1\" class=\"dataframe\">\n",
       "  <thead>\n",
       "    <tr style=\"text-align: right;\">\n",
       "      <th></th>\n",
       "      <th>TV</th>\n",
       "      <th>Radio</th>\n",
       "      <th>Newspaper</th>\n",
       "      <th>Sales</th>\n",
       "      <th>unos</th>\n",
       "    </tr>\n",
       "  </thead>\n",
       "  <tbody>\n",
       "    <tr>\n",
       "      <th>0</th>\n",
       "      <td>230.1</td>\n",
       "      <td>37.8</td>\n",
       "      <td>69.2</td>\n",
       "      <td>22.1</td>\n",
       "      <td>1</td>\n",
       "    </tr>\n",
       "    <tr>\n",
       "      <th>1</th>\n",
       "      <td>44.5</td>\n",
       "      <td>39.3</td>\n",
       "      <td>45.1</td>\n",
       "      <td>10.4</td>\n",
       "      <td>1</td>\n",
       "    </tr>\n",
       "    <tr>\n",
       "      <th>2</th>\n",
       "      <td>17.2</td>\n",
       "      <td>45.9</td>\n",
       "      <td>69.3</td>\n",
       "      <td>9.3</td>\n",
       "      <td>1</td>\n",
       "    </tr>\n",
       "    <tr>\n",
       "      <th>3</th>\n",
       "      <td>151.5</td>\n",
       "      <td>41.3</td>\n",
       "      <td>58.5</td>\n",
       "      <td>18.5</td>\n",
       "      <td>1</td>\n",
       "    </tr>\n",
       "    <tr>\n",
       "      <th>4</th>\n",
       "      <td>180.8</td>\n",
       "      <td>10.8</td>\n",
       "      <td>58.4</td>\n",
       "      <td>12.9</td>\n",
       "      <td>1</td>\n",
       "    </tr>\n",
       "  </tbody>\n",
       "</table>\n",
       "</div>"
      ],
      "text/plain": [
       "      TV  Radio  Newspaper  Sales  unos\n",
       "0  230.1   37.8       69.2   22.1     1\n",
       "1   44.5   39.3       45.1   10.4     1\n",
       "2   17.2   45.9       69.3    9.3     1\n",
       "3  151.5   41.3       58.5   18.5     1\n",
       "4  180.8   10.8       58.4   12.9     1"
      ]
     },
     "execution_count": 8,
     "metadata": {},
     "output_type": "execute_result"
    }
   ],
   "source": [
    "D['unos']=1\n",
    "D.head()"
   ]
  },
  {
   "cell_type": "code",
   "execution_count": 9,
   "id": "5c1aa0f0",
   "metadata": {},
   "outputs": [
    {
     "data": {
      "text/html": [
       "<div>\n",
       "<style scoped>\n",
       "    .dataframe tbody tr th:only-of-type {\n",
       "        vertical-align: middle;\n",
       "    }\n",
       "\n",
       "    .dataframe tbody tr th {\n",
       "        vertical-align: top;\n",
       "    }\n",
       "\n",
       "    .dataframe thead th {\n",
       "        text-align: right;\n",
       "    }\n",
       "</style>\n",
       "<table border=\"1\" class=\"dataframe\">\n",
       "  <thead>\n",
       "    <tr style=\"text-align: right;\">\n",
       "      <th></th>\n",
       "      <th>TV</th>\n",
       "      <th>unos</th>\n",
       "    </tr>\n",
       "  </thead>\n",
       "  <tbody>\n",
       "    <tr>\n",
       "      <th>0</th>\n",
       "      <td>230.1</td>\n",
       "      <td>1</td>\n",
       "    </tr>\n",
       "    <tr>\n",
       "      <th>1</th>\n",
       "      <td>44.5</td>\n",
       "      <td>1</td>\n",
       "    </tr>\n",
       "    <tr>\n",
       "      <th>2</th>\n",
       "      <td>17.2</td>\n",
       "      <td>1</td>\n",
       "    </tr>\n",
       "    <tr>\n",
       "      <th>3</th>\n",
       "      <td>151.5</td>\n",
       "      <td>1</td>\n",
       "    </tr>\n",
       "    <tr>\n",
       "      <th>4</th>\n",
       "      <td>180.8</td>\n",
       "      <td>1</td>\n",
       "    </tr>\n",
       "    <tr>\n",
       "      <th>...</th>\n",
       "      <td>...</td>\n",
       "      <td>...</td>\n",
       "    </tr>\n",
       "    <tr>\n",
       "      <th>195</th>\n",
       "      <td>38.2</td>\n",
       "      <td>1</td>\n",
       "    </tr>\n",
       "    <tr>\n",
       "      <th>196</th>\n",
       "      <td>94.2</td>\n",
       "      <td>1</td>\n",
       "    </tr>\n",
       "    <tr>\n",
       "      <th>197</th>\n",
       "      <td>177.0</td>\n",
       "      <td>1</td>\n",
       "    </tr>\n",
       "    <tr>\n",
       "      <th>198</th>\n",
       "      <td>283.6</td>\n",
       "      <td>1</td>\n",
       "    </tr>\n",
       "    <tr>\n",
       "      <th>199</th>\n",
       "      <td>232.1</td>\n",
       "      <td>1</td>\n",
       "    </tr>\n",
       "  </tbody>\n",
       "</table>\n",
       "<p>200 rows × 2 columns</p>\n",
       "</div>"
      ],
      "text/plain": [
       "        TV  unos\n",
       "0    230.1     1\n",
       "1     44.5     1\n",
       "2     17.2     1\n",
       "3    151.5     1\n",
       "4    180.8     1\n",
       "..     ...   ...\n",
       "195   38.2     1\n",
       "196   94.2     1\n",
       "197  177.0     1\n",
       "198  283.6     1\n",
       "199  232.1     1\n",
       "\n",
       "[200 rows x 2 columns]"
      ]
     },
     "execution_count": 9,
     "metadata": {},
     "output_type": "execute_result"
    }
   ],
   "source": [
    "A=D[['TV','unos']]\n",
    "A"
   ]
  },
  {
   "cell_type": "code",
   "execution_count": 10,
   "id": "2d7eaec4",
   "metadata": {},
   "outputs": [
    {
     "data": {
      "text/html": [
       "<div>\n",
       "<style scoped>\n",
       "    .dataframe tbody tr th:only-of-type {\n",
       "        vertical-align: middle;\n",
       "    }\n",
       "\n",
       "    .dataframe tbody tr th {\n",
       "        vertical-align: top;\n",
       "    }\n",
       "\n",
       "    .dataframe thead th {\n",
       "        text-align: right;\n",
       "    }\n",
       "</style>\n",
       "<table border=\"1\" class=\"dataframe\">\n",
       "  <thead>\n",
       "    <tr style=\"text-align: right;\">\n",
       "      <th></th>\n",
       "      <th>TV</th>\n",
       "      <th>unos</th>\n",
       "    </tr>\n",
       "  </thead>\n",
       "  <tbody>\n",
       "    <tr>\n",
       "      <th>TV</th>\n",
       "      <td>5791118.39</td>\n",
       "      <td>29408.5</td>\n",
       "    </tr>\n",
       "    <tr>\n",
       "      <th>unos</th>\n",
       "      <td>29408.50</td>\n",
       "      <td>200.0</td>\n",
       "    </tr>\n",
       "  </tbody>\n",
       "</table>\n",
       "</div>"
      ],
      "text/plain": [
       "              TV     unos\n",
       "TV    5791118.39  29408.5\n",
       "unos    29408.50    200.0"
      ]
     },
     "execution_count": 10,
     "metadata": {},
     "output_type": "execute_result"
    }
   ],
   "source": [
    "AA=np.transpose(A).dot(A)\n",
    "AA"
   ]
  },
  {
   "cell_type": "code",
   "execution_count": 11,
   "id": "8df29a96",
   "metadata": {},
   "outputs": [
    {
     "data": {
      "text/html": [
       "<div>\n",
       "<style scoped>\n",
       "    .dataframe tbody tr th:only-of-type {\n",
       "        vertical-align: middle;\n",
       "    }\n",
       "\n",
       "    .dataframe tbody tr th {\n",
       "        vertical-align: top;\n",
       "    }\n",
       "\n",
       "    .dataframe thead th {\n",
       "        text-align: right;\n",
       "    }\n",
       "</style>\n",
       "<table border=\"1\" class=\"dataframe\">\n",
       "  <thead>\n",
       "    <tr style=\"text-align: right;\">\n",
       "      <th></th>\n",
       "      <th>Sales</th>\n",
       "    </tr>\n",
       "  </thead>\n",
       "  <tbody>\n",
       "    <tr>\n",
       "      <th>0</th>\n",
       "      <td>22.1</td>\n",
       "    </tr>\n",
       "    <tr>\n",
       "      <th>1</th>\n",
       "      <td>10.4</td>\n",
       "    </tr>\n",
       "    <tr>\n",
       "      <th>2</th>\n",
       "      <td>9.3</td>\n",
       "    </tr>\n",
       "    <tr>\n",
       "      <th>3</th>\n",
       "      <td>18.5</td>\n",
       "    </tr>\n",
       "    <tr>\n",
       "      <th>4</th>\n",
       "      <td>12.9</td>\n",
       "    </tr>\n",
       "    <tr>\n",
       "      <th>...</th>\n",
       "      <td>...</td>\n",
       "    </tr>\n",
       "    <tr>\n",
       "      <th>195</th>\n",
       "      <td>7.6</td>\n",
       "    </tr>\n",
       "    <tr>\n",
       "      <th>196</th>\n",
       "      <td>9.7</td>\n",
       "    </tr>\n",
       "    <tr>\n",
       "      <th>197</th>\n",
       "      <td>12.8</td>\n",
       "    </tr>\n",
       "    <tr>\n",
       "      <th>198</th>\n",
       "      <td>25.5</td>\n",
       "    </tr>\n",
       "    <tr>\n",
       "      <th>199</th>\n",
       "      <td>13.4</td>\n",
       "    </tr>\n",
       "  </tbody>\n",
       "</table>\n",
       "<p>200 rows × 1 columns</p>\n",
       "</div>"
      ],
      "text/plain": [
       "     Sales\n",
       "0     22.1\n",
       "1     10.4\n",
       "2      9.3\n",
       "3     18.5\n",
       "4     12.9\n",
       "..     ...\n",
       "195    7.6\n",
       "196    9.7\n",
       "197   12.8\n",
       "198   25.5\n",
       "199   13.4\n",
       "\n",
       "[200 rows x 1 columns]"
      ]
     },
     "execution_count": 11,
     "metadata": {},
     "output_type": "execute_result"
    }
   ],
   "source": [
    "y=D[['Sales']]\n",
    "y"
   ]
  },
  {
   "cell_type": "code",
   "execution_count": 12,
   "id": "1e013d02",
   "metadata": {},
   "outputs": [
    {
     "data": {
      "text/html": [
       "<div>\n",
       "<style scoped>\n",
       "    .dataframe tbody tr th:only-of-type {\n",
       "        vertical-align: middle;\n",
       "    }\n",
       "\n",
       "    .dataframe tbody tr th {\n",
       "        vertical-align: top;\n",
       "    }\n",
       "\n",
       "    .dataframe thead th {\n",
       "        text-align: right;\n",
       "    }\n",
       "</style>\n",
       "<table border=\"1\" class=\"dataframe\">\n",
       "  <thead>\n",
       "    <tr style=\"text-align: right;\">\n",
       "      <th></th>\n",
       "      <th>Sales</th>\n",
       "    </tr>\n",
       "  </thead>\n",
       "  <tbody>\n",
       "    <tr>\n",
       "      <th>TV</th>\n",
       "      <td>482108.34</td>\n",
       "    </tr>\n",
       "    <tr>\n",
       "      <th>unos</th>\n",
       "      <td>2804.50</td>\n",
       "    </tr>\n",
       "  </tbody>\n",
       "</table>\n",
       "</div>"
      ],
      "text/plain": [
       "          Sales\n",
       "TV    482108.34\n",
       "unos    2804.50"
      ]
     },
     "execution_count": 12,
     "metadata": {},
     "output_type": "execute_result"
    }
   ],
   "source": [
    "b=np.transpose(A).dot(y)\n",
    "b"
   ]
  },
  {
   "cell_type": "code",
   "execution_count": 13,
   "id": "3ce9fe0c",
   "metadata": {},
   "outputs": [
    {
     "data": {
      "text/plain": [
       "array([[0.04753664],\n",
       "       [7.03259355]])"
      ]
     },
     "execution_count": 13,
     "metadata": {},
     "output_type": "execute_result"
    }
   ],
   "source": [
    "sol=np.linalg.solve(AA,b)\n",
    "sol"
   ]
  },
  {
   "cell_type": "code",
   "execution_count": 14,
   "id": "c9d61170",
   "metadata": {},
   "outputs": [
    {
     "data": {
      "text/plain": [
       "(0.04753664043301978, 7.032593549127689)"
      ]
     },
     "execution_count": 14,
     "metadata": {},
     "output_type": "execute_result"
    }
   ],
   "source": [
    "sol[0][0],sol[1][0]"
   ]
  },
  {
   "cell_type": "code",
   "execution_count": 15,
   "id": "0340e4bc",
   "metadata": {},
   "outputs": [
    {
     "data": {
      "text/plain": [
       "45.853359562101346"
      ]
     },
     "execution_count": 15,
     "metadata": {},
     "output_type": "execute_result"
    }
   ],
   "source": [
    "res=np.linalg.norm(np.array(A.dot(sol))-np.array(y))\n",
    "res "
   ]
  },
  {
   "cell_type": "code",
   "execution_count": 16,
   "id": "d4e8953a",
   "metadata": {},
   "outputs": [
    {
     "data": {
      "image/png": "[encoded data removed]",
      "text/plain": [
       "<Figure size 640x480 with 1 Axes>"
      ]
     },
     "metadata": {},
     "output_type": "display_data"
    }
   ],
   "source": [
    "plt.plot(D[['TV']],y,'bo')\n",
    "plt.show()"
   ]
  },
  {
   "cell_type": "code",
   "execution_count": 18,
   "id": "5749e518",
   "metadata": {},
   "outputs": [
    {
     "data": {
      "image/png": "[encoded data removed]",
      "text/plain": [
       "<Figure size 640x480 with 1 Axes>"
      ]
     },
     "metadata": {},
     "output_type": "display_data"
    }
   ],
   "source": [
    "plt.plot(D[['TV']],y,'bo',D[['TV']],np.array(A.dot(sol)),'r')\n",
    "plt.show()"
   ]
  },
  {
   "cell_type": "markdown",
   "id": "00fb89fb",
   "metadata": {},
   "source": [
    "$$\\begin{array}{rcl}\\alpha x_1^2 +\\beta x_1+\\gamma &=&y_1\\\\ \\alpha x_2^2 +\\beta x_2+\\gamma &=&y_2 \\\\ ...&=&...\\\\\\alpha x_n^2 +\\beta x_n+\\gamma&=&y_n\\end{array}$$"
   ]
  },
  {
   "cell_type": "markdown",
   "id": "d91f8a97",
   "metadata": {},
   "source": [
    "Lo que nos da la matriz siguiente\n",
    "\n",
    "$$\\begin{bmatrix}x_1^2&x_1&x_1^0\\\\x_2^2&x_2&x_2^0\\\\\\vdots&\\vdots &\\vdots\\\\x_n^2&x_n&x_n^0\\end{bmatrix}=\\begin{bmatrix}\\alpha\\\\\\beta \\\\\\gamma\\end{bmatrix}= \\begin{bmatrix}y_1\\\\y_2\\\\\\vdots \\\\y_n\\end{bmatrix}$$"
   ]
  },
  {
   "cell_type": "code",
   "execution_count": 32,
   "id": "6b78435f",
   "metadata": {},
   "outputs": [
    {
     "data": {
      "text/html": [
       "<div>\n",
       "<style scoped>\n",
       "    .dataframe tbody tr th:only-of-type {\n",
       "        vertical-align: middle;\n",
       "    }\n",
       "\n",
       "    .dataframe tbody tr th {\n",
       "        vertical-align: top;\n",
       "    }\n",
       "\n",
       "    .dataframe thead th {\n",
       "        text-align: right;\n",
       "    }\n",
       "</style>\n",
       "<table border=\"1\" class=\"dataframe\">\n",
       "  <thead>\n",
       "    <tr style=\"text-align: right;\">\n",
       "      <th></th>\n",
       "      <th>TV</th>\n",
       "      <th>TV</th>\n",
       "      <th>unos</th>\n",
       "    </tr>\n",
       "  </thead>\n",
       "  <tbody>\n",
       "    <tr>\n",
       "      <th>0</th>\n",
       "      <td>52946.01</td>\n",
       "      <td>230.1</td>\n",
       "      <td>1</td>\n",
       "    </tr>\n",
       "    <tr>\n",
       "      <th>1</th>\n",
       "      <td>1980.25</td>\n",
       "      <td>44.5</td>\n",
       "      <td>1</td>\n",
       "    </tr>\n",
       "    <tr>\n",
       "      <th>2</th>\n",
       "      <td>295.84</td>\n",
       "      <td>17.2</td>\n",
       "      <td>1</td>\n",
       "    </tr>\n",
       "    <tr>\n",
       "      <th>3</th>\n",
       "      <td>22952.25</td>\n",
       "      <td>151.5</td>\n",
       "      <td>1</td>\n",
       "    </tr>\n",
       "    <tr>\n",
       "      <th>4</th>\n",
       "      <td>32688.64</td>\n",
       "      <td>180.8</td>\n",
       "      <td>1</td>\n",
       "    </tr>\n",
       "    <tr>\n",
       "      <th>...</th>\n",
       "      <td>...</td>\n",
       "      <td>...</td>\n",
       "      <td>...</td>\n",
       "    </tr>\n",
       "    <tr>\n",
       "      <th>195</th>\n",
       "      <td>1459.24</td>\n",
       "      <td>38.2</td>\n",
       "      <td>1</td>\n",
       "    </tr>\n",
       "    <tr>\n",
       "      <th>196</th>\n",
       "      <td>8873.64</td>\n",
       "      <td>94.2</td>\n",
       "      <td>1</td>\n",
       "    </tr>\n",
       "    <tr>\n",
       "      <th>197</th>\n",
       "      <td>31329.00</td>\n",
       "      <td>177.0</td>\n",
       "      <td>1</td>\n",
       "    </tr>\n",
       "    <tr>\n",
       "      <th>198</th>\n",
       "      <td>80428.96</td>\n",
       "      <td>283.6</td>\n",
       "      <td>1</td>\n",
       "    </tr>\n",
       "    <tr>\n",
       "      <th>199</th>\n",
       "      <td>53870.41</td>\n",
       "      <td>232.1</td>\n",
       "      <td>1</td>\n",
       "    </tr>\n",
       "  </tbody>\n",
       "</table>\n",
       "<p>200 rows × 3 columns</p>\n",
       "</div>"
      ],
      "text/plain": [
       "           TV     TV  unos\n",
       "0    52946.01  230.1     1\n",
       "1     1980.25   44.5     1\n",
       "2      295.84   17.2     1\n",
       "3    22952.25  151.5     1\n",
       "4    32688.64  180.8     1\n",
       "..        ...    ...   ...\n",
       "195   1459.24   38.2     1\n",
       "196   8873.64   94.2     1\n",
       "197  31329.00  177.0     1\n",
       "198  80428.96  283.6     1\n",
       "199  53870.41  232.1     1\n",
       "\n",
       "[200 rows x 3 columns]"
      ]
     },
     "execution_count": 32,
     "metadata": {},
     "output_type": "execute_result"
    }
   ],
   "source": [
    "A=pd.concat([D.TV**2,D[['TV','unos']]],axis=1)\n",
    "A\n",
    "    "
   ]
  },
  {
   "cell_type": "code",
   "execution_count": 33,
   "id": "e92efc45",
   "metadata": {},
   "outputs": [
    {
     "data": {
      "text/html": [
       "<div>\n",
       "<style scoped>\n",
       "    .dataframe tbody tr th:only-of-type {\n",
       "        vertical-align: middle;\n",
       "    }\n",
       "\n",
       "    .dataframe tbody tr th {\n",
       "        vertical-align: top;\n",
       "    }\n",
       "\n",
       "    .dataframe thead th {\n",
       "        text-align: right;\n",
       "    }\n",
       "</style>\n",
       "<table border=\"1\" class=\"dataframe\">\n",
       "  <thead>\n",
       "    <tr style=\"text-align: right;\">\n",
       "      <th></th>\n",
       "      <th>TV</th>\n",
       "      <th>TV</th>\n",
       "      <th>unos</th>\n",
       "    </tr>\n",
       "  </thead>\n",
       "  <tbody>\n",
       "    <tr>\n",
       "      <th>TV</th>\n",
       "      <td>2.977499e+11</td>\n",
       "      <td>1.274201e+09</td>\n",
       "      <td>5791118.39</td>\n",
       "    </tr>\n",
       "    <tr>\n",
       "      <th>TV</th>\n",
       "      <td>1.274201e+09</td>\n",
       "      <td>5.791118e+06</td>\n",
       "      <td>29408.50</td>\n",
       "    </tr>\n",
       "    <tr>\n",
       "      <th>unos</th>\n",
       "      <td>5.791118e+06</td>\n",
       "      <td>2.940850e+04</td>\n",
       "      <td>200.00</td>\n",
       "    </tr>\n",
       "  </tbody>\n",
       "</table>\n",
       "</div>"
      ],
      "text/plain": [
       "                TV            TV        unos\n",
       "TV    2.977499e+11  1.274201e+09  5791118.39\n",
       "TV    1.274201e+09  5.791118e+06    29408.50\n",
       "unos  5.791118e+06  2.940850e+04      200.00"
      ]
     },
     "execution_count": 33,
     "metadata": {},
     "output_type": "execute_result"
    }
   ],
   "source": [
    "AA=np.transpose(A).dot(A)\n",
    "AA"
   ]
  },
  {
   "cell_type": "code",
   "execution_count": 34,
   "id": "aa28cfd6",
   "metadata": {},
   "outputs": [
    {
     "data": {
      "text/html": [
       "<div>\n",
       "<style scoped>\n",
       "    .dataframe tbody tr th:only-of-type {\n",
       "        vertical-align: middle;\n",
       "    }\n",
       "\n",
       "    .dataframe tbody tr th {\n",
       "        vertical-align: top;\n",
       "    }\n",
       "\n",
       "    .dataframe thead th {\n",
       "        text-align: right;\n",
       "    }\n",
       "</style>\n",
       "<table border=\"1\" class=\"dataframe\">\n",
       "  <thead>\n",
       "    <tr style=\"text-align: right;\">\n",
       "      <th></th>\n",
       "      <th>Sales</th>\n",
       "    </tr>\n",
       "  </thead>\n",
       "  <tbody>\n",
       "    <tr>\n",
       "      <th>TV</th>\n",
       "      <td>1.007312e+08</td>\n",
       "    </tr>\n",
       "    <tr>\n",
       "      <th>TV</th>\n",
       "      <td>4.821083e+05</td>\n",
       "    </tr>\n",
       "    <tr>\n",
       "      <th>unos</th>\n",
       "      <td>2.804500e+03</td>\n",
       "    </tr>\n",
       "  </tbody>\n",
       "</table>\n",
       "</div>"
      ],
      "text/plain": [
       "             Sales\n",
       "TV    1.007312e+08\n",
       "TV    4.821083e+05\n",
       "unos  2.804500e+03"
      ]
     },
     "execution_count": 34,
     "metadata": {},
     "output_type": "execute_result"
    }
   ],
   "source": [
    "b=np.transpose(A).dot(y)\n",
    "b"
   ]
  },
  {
   "cell_type": "code",
   "execution_count": 35,
   "id": "277adbc0",
   "metadata": {},
   "outputs": [
    {
     "data": {
      "text/plain": [
       "array([[-6.84693373e-05],\n",
       "       [ 6.72659270e-02],\n",
       "       [ 6.11412013e+00]])"
      ]
     },
     "execution_count": 35,
     "metadata": {},
     "output_type": "execute_result"
    }
   ],
   "source": [
    "sol=np.linalg.solve(AA,b)\n",
    "sol"
   ]
  },
  {
   "cell_type": "code",
   "execution_count": 36,
   "id": "2dbd1515",
   "metadata": {},
   "outputs": [
    {
     "data": {
      "text/plain": [
       "45.428323830518906"
      ]
     },
     "execution_count": 36,
     "metadata": {},
     "output_type": "execute_result"
    }
   ],
   "source": [
    "res=np.linalg.norm(np.array(A.dot(sol))-np.array(y))\n",
    "res"
   ]
  },
  {
   "cell_type": "code",
   "execution_count": 39,
   "id": "754cf27a",
   "metadata": {},
   "outputs": [
    {
     "data": {
      "image/png": "[encoded data removed]",
      "text/plain": [
       "<Figure size 432x288 with 1 Axes>"
      ]
     },
     "metadata": {
      "needs_background": "light"
     },
     "output_type": "display_data"
    }
   ],
   "source": [
    "plt.plot(x,y,'b.',x,np.array(A.dot(sol)),'ro')\n",
    "plt.show()"
   ]
  },
  {
   "cell_type": "code",
   "execution_count": 40,
   "id": "43113db6",
   "metadata": {},
   "outputs": [
    {
     "data": {
      "text/html": [
       "<div>\n",
       "<style scoped>\n",
       "    .dataframe tbody tr th:only-of-type {\n",
       "        vertical-align: middle;\n",
       "    }\n",
       "\n",
       "    .dataframe tbody tr th {\n",
       "        vertical-align: top;\n",
       "    }\n",
       "\n",
       "    .dataframe thead th {\n",
       "        text-align: right;\n",
       "    }\n",
       "</style>\n",
       "<table border=\"1\" class=\"dataframe\">\n",
       "  <thead>\n",
       "    <tr style=\"text-align: right;\">\n",
       "      <th></th>\n",
       "      <th>TV</th>\n",
       "      <th>TV</th>\n",
       "      <th>unos</th>\n",
       "      <th>Sales</th>\n",
       "    </tr>\n",
       "  </thead>\n",
       "  <tbody>\n",
       "    <tr>\n",
       "      <th>0</th>\n",
       "      <td>52946.01</td>\n",
       "      <td>230.1</td>\n",
       "      <td>1</td>\n",
       "      <td>22.1</td>\n",
       "    </tr>\n",
       "    <tr>\n",
       "      <th>1</th>\n",
       "      <td>1980.25</td>\n",
       "      <td>44.5</td>\n",
       "      <td>1</td>\n",
       "      <td>10.4</td>\n",
       "    </tr>\n",
       "    <tr>\n",
       "      <th>2</th>\n",
       "      <td>295.84</td>\n",
       "      <td>17.2</td>\n",
       "      <td>1</td>\n",
       "      <td>9.3</td>\n",
       "    </tr>\n",
       "    <tr>\n",
       "      <th>3</th>\n",
       "      <td>22952.25</td>\n",
       "      <td>151.5</td>\n",
       "      <td>1</td>\n",
       "      <td>18.5</td>\n",
       "    </tr>\n",
       "    <tr>\n",
       "      <th>4</th>\n",
       "      <td>32688.64</td>\n",
       "      <td>180.8</td>\n",
       "      <td>1</td>\n",
       "      <td>12.9</td>\n",
       "    </tr>\n",
       "    <tr>\n",
       "      <th>...</th>\n",
       "      <td>...</td>\n",
       "      <td>...</td>\n",
       "      <td>...</td>\n",
       "      <td>...</td>\n",
       "    </tr>\n",
       "    <tr>\n",
       "      <th>195</th>\n",
       "      <td>1459.24</td>\n",
       "      <td>38.2</td>\n",
       "      <td>1</td>\n",
       "      <td>7.6</td>\n",
       "    </tr>\n",
       "    <tr>\n",
       "      <th>196</th>\n",
       "      <td>8873.64</td>\n",
       "      <td>94.2</td>\n",
       "      <td>1</td>\n",
       "      <td>9.7</td>\n",
       "    </tr>\n",
       "    <tr>\n",
       "      <th>197</th>\n",
       "      <td>31329.00</td>\n",
       "      <td>177.0</td>\n",
       "      <td>1</td>\n",
       "      <td>12.8</td>\n",
       "    </tr>\n",
       "    <tr>\n",
       "      <th>198</th>\n",
       "      <td>80428.96</td>\n",
       "      <td>283.6</td>\n",
       "      <td>1</td>\n",
       "      <td>25.5</td>\n",
       "    </tr>\n",
       "    <tr>\n",
       "      <th>199</th>\n",
       "      <td>53870.41</td>\n",
       "      <td>232.1</td>\n",
       "      <td>1</td>\n",
       "      <td>13.4</td>\n",
       "    </tr>\n",
       "  </tbody>\n",
       "</table>\n",
       "<p>200 rows × 4 columns</p>\n",
       "</div>"
      ],
      "text/plain": [
       "           TV     TV  unos  Sales\n",
       "0    52946.01  230.1     1   22.1\n",
       "1     1980.25   44.5     1   10.4\n",
       "2      295.84   17.2     1    9.3\n",
       "3    22952.25  151.5     1   18.5\n",
       "4    32688.64  180.8     1   12.9\n",
       "..        ...    ...   ...    ...\n",
       "195   1459.24   38.2     1    7.6\n",
       "196   8873.64   94.2     1    9.7\n",
       "197  31329.00  177.0     1   12.8\n",
       "198  80428.96  283.6     1   25.5\n",
       "199  53870.41  232.1     1   13.4\n",
       "\n",
       "[200 rows x 4 columns]"
      ]
     },
     "execution_count": 40,
     "metadata": {},
     "output_type": "execute_result"
    }
   ],
   "source": [
    "B=pd.concat([A,y],axis=1)\n",
    "B"
   ]
  },
  {
   "cell_type": "code",
   "execution_count": 41,
   "id": "42d43349",
   "metadata": {},
   "outputs": [
    {
     "data": {
      "text/html": [
       "<div>\n",
       "<style scoped>\n",
       "    .dataframe tbody tr th:only-of-type {\n",
       "        vertical-align: middle;\n",
       "    }\n",
       "\n",
       "    .dataframe tbody tr th {\n",
       "        vertical-align: top;\n",
       "    }\n",
       "\n",
       "    .dataframe thead th {\n",
       "        text-align: right;\n",
       "    }\n",
       "</style>\n",
       "<table border=\"1\" class=\"dataframe\">\n",
       "  <thead>\n",
       "    <tr style=\"text-align: right;\">\n",
       "      <th></th>\n",
       "      <th>TV2</th>\n",
       "      <th>TV</th>\n",
       "      <th>1's</th>\n",
       "      <th>Ventas</th>\n",
       "    </tr>\n",
       "  </thead>\n",
       "  <tbody>\n",
       "    <tr>\n",
       "      <th>0</th>\n",
       "      <td>52946.01</td>\n",
       "      <td>230.1</td>\n",
       "      <td>1</td>\n",
       "      <td>22.1</td>\n",
       "    </tr>\n",
       "    <tr>\n",
       "      <th>1</th>\n",
       "      <td>1980.25</td>\n",
       "      <td>44.5</td>\n",
       "      <td>1</td>\n",
       "      <td>10.4</td>\n",
       "    </tr>\n",
       "    <tr>\n",
       "      <th>2</th>\n",
       "      <td>295.84</td>\n",
       "      <td>17.2</td>\n",
       "      <td>1</td>\n",
       "      <td>9.3</td>\n",
       "    </tr>\n",
       "    <tr>\n",
       "      <th>3</th>\n",
       "      <td>22952.25</td>\n",
       "      <td>151.5</td>\n",
       "      <td>1</td>\n",
       "      <td>18.5</td>\n",
       "    </tr>\n",
       "    <tr>\n",
       "      <th>4</th>\n",
       "      <td>32688.64</td>\n",
       "      <td>180.8</td>\n",
       "      <td>1</td>\n",
       "      <td>12.9</td>\n",
       "    </tr>\n",
       "  </tbody>\n",
       "</table>\n",
       "</div>"
      ],
      "text/plain": [
       "        TV2     TV  1's  Ventas\n",
       "0  52946.01  230.1    1    22.1\n",
       "1   1980.25   44.5    1    10.4\n",
       "2    295.84   17.2    1     9.3\n",
       "3  22952.25  151.5    1    18.5\n",
       "4  32688.64  180.8    1    12.9"
      ]
     },
     "execution_count": 41,
     "metadata": {},
     "output_type": "execute_result"
    }
   ],
   "source": [
    "B.columns=['TV2','TV',\"1's\",'Ventas']\n",
    "B.head()"
   ]
  },
  {
   "cell_type": "code",
   "execution_count": 42,
   "id": "74e1bf5f",
   "metadata": {},
   "outputs": [
    {
     "data": {
      "text/html": [
       "<div>\n",
       "<style scoped>\n",
       "    .dataframe tbody tr th:only-of-type {\n",
       "        vertical-align: middle;\n",
       "    }\n",
       "\n",
       "    .dataframe tbody tr th {\n",
       "        vertical-align: top;\n",
       "    }\n",
       "\n",
       "    .dataframe thead th {\n",
       "        text-align: right;\n",
       "    }\n",
       "</style>\n",
       "<table border=\"1\" class=\"dataframe\">\n",
       "  <thead>\n",
       "    <tr style=\"text-align: right;\">\n",
       "      <th></th>\n",
       "      <th>TV2</th>\n",
       "      <th>TV</th>\n",
       "      <th>1's</th>\n",
       "      <th>Ventas</th>\n",
       "    </tr>\n",
       "  </thead>\n",
       "  <tbody>\n",
       "    <tr>\n",
       "      <th>130</th>\n",
       "      <td>0.49</td>\n",
       "      <td>0.7</td>\n",
       "      <td>1</td>\n",
       "      <td>1.6</td>\n",
       "    </tr>\n",
       "    <tr>\n",
       "      <th>155</th>\n",
       "      <td>16.81</td>\n",
       "      <td>4.1</td>\n",
       "      <td>1</td>\n",
       "      <td>3.2</td>\n",
       "    </tr>\n",
       "    <tr>\n",
       "      <th>78</th>\n",
       "      <td>29.16</td>\n",
       "      <td>5.4</td>\n",
       "      <td>1</td>\n",
       "      <td>5.3</td>\n",
       "    </tr>\n",
       "    <tr>\n",
       "      <th>56</th>\n",
       "      <td>53.29</td>\n",
       "      <td>7.3</td>\n",
       "      <td>1</td>\n",
       "      <td>5.5</td>\n",
       "    </tr>\n",
       "    <tr>\n",
       "      <th>126</th>\n",
       "      <td>60.84</td>\n",
       "      <td>7.8</td>\n",
       "      <td>1</td>\n",
       "      <td>6.6</td>\n",
       "    </tr>\n",
       "    <tr>\n",
       "      <th>132</th>\n",
       "      <td>70.56</td>\n",
       "      <td>8.4</td>\n",
       "      <td>1</td>\n",
       "      <td>5.7</td>\n",
       "    </tr>\n",
       "    <tr>\n",
       "      <th>8</th>\n",
       "      <td>73.96</td>\n",
       "      <td>8.6</td>\n",
       "      <td>1</td>\n",
       "      <td>4.8</td>\n",
       "    </tr>\n",
       "    <tr>\n",
       "      <th>5</th>\n",
       "      <td>75.69</td>\n",
       "      <td>8.7</td>\n",
       "      <td>1</td>\n",
       "      <td>7.2</td>\n",
       "    </tr>\n",
       "    <tr>\n",
       "      <th>158</th>\n",
       "      <td>136.89</td>\n",
       "      <td>11.7</td>\n",
       "      <td>1</td>\n",
       "      <td>7.3</td>\n",
       "    </tr>\n",
       "    <tr>\n",
       "      <th>108</th>\n",
       "      <td>171.61</td>\n",
       "      <td>13.1</td>\n",
       "      <td>1</td>\n",
       "      <td>5.3</td>\n",
       "    </tr>\n",
       "    <tr>\n",
       "      <th>22</th>\n",
       "      <td>174.24</td>\n",
       "      <td>13.2</td>\n",
       "      <td>1</td>\n",
       "      <td>5.6</td>\n",
       "    </tr>\n",
       "    <tr>\n",
       "      <th>75</th>\n",
       "      <td>285.61</td>\n",
       "      <td>16.9</td>\n",
       "      <td>1</td>\n",
       "      <td>8.7</td>\n",
       "    </tr>\n",
       "    <tr>\n",
       "      <th>2</th>\n",
       "      <td>295.84</td>\n",
       "      <td>17.2</td>\n",
       "      <td>1</td>\n",
       "      <td>9.3</td>\n",
       "    </tr>\n",
       "    <tr>\n",
       "      <th>192</th>\n",
       "      <td>295.84</td>\n",
       "      <td>17.2</td>\n",
       "      <td>1</td>\n",
       "      <td>5.9</td>\n",
       "    </tr>\n",
       "    <tr>\n",
       "      <th>166</th>\n",
       "      <td>320.41</td>\n",
       "      <td>17.9</td>\n",
       "      <td>1</td>\n",
       "      <td>8.0</td>\n",
       "    </tr>\n",
       "  </tbody>\n",
       "</table>\n",
       "</div>"
      ],
      "text/plain": [
       "        TV2    TV  1's  Ventas\n",
       "130    0.49   0.7    1     1.6\n",
       "155   16.81   4.1    1     3.2\n",
       "78    29.16   5.4    1     5.3\n",
       "56    53.29   7.3    1     5.5\n",
       "126   60.84   7.8    1     6.6\n",
       "132   70.56   8.4    1     5.7\n",
       "8     73.96   8.6    1     4.8\n",
       "5     75.69   8.7    1     7.2\n",
       "158  136.89  11.7    1     7.3\n",
       "108  171.61  13.1    1     5.3\n",
       "22   174.24  13.2    1     5.6\n",
       "75   285.61  16.9    1     8.7\n",
       "2    295.84  17.2    1     9.3\n",
       "192  295.84  17.2    1     5.9\n",
       "166  320.41  17.9    1     8.0"
      ]
     },
     "execution_count": 42,
     "metadata": {},
     "output_type": "execute_result"
    }
   ],
   "source": [
    "B=B.sort_values('TV')\n",
    "B.head(15)"
   ]
  },
  {
   "cell_type": "code",
   "execution_count": 43,
   "id": "f0f9d2ce",
   "metadata": {},
   "outputs": [
    {
     "data": {
      "text/html": [
       "<div>\n",
       "<style scoped>\n",
       "    .dataframe tbody tr th:only-of-type {\n",
       "        vertical-align: middle;\n",
       "    }\n",
       "\n",
       "    .dataframe tbody tr th {\n",
       "        vertical-align: top;\n",
       "    }\n",
       "\n",
       "    .dataframe thead th {\n",
       "        text-align: right;\n",
       "    }\n",
       "</style>\n",
       "<table border=\"1\" class=\"dataframe\">\n",
       "  <thead>\n",
       "    <tr style=\"text-align: right;\">\n",
       "      <th></th>\n",
       "      <th>TV2</th>\n",
       "      <th>TV</th>\n",
       "      <th>1's</th>\n",
       "    </tr>\n",
       "  </thead>\n",
       "  <tbody>\n",
       "    <tr>\n",
       "      <th>130</th>\n",
       "      <td>0.49</td>\n",
       "      <td>0.7</td>\n",
       "      <td>1</td>\n",
       "    </tr>\n",
       "    <tr>\n",
       "      <th>155</th>\n",
       "      <td>16.81</td>\n",
       "      <td>4.1</td>\n",
       "      <td>1</td>\n",
       "    </tr>\n",
       "    <tr>\n",
       "      <th>78</th>\n",
       "      <td>29.16</td>\n",
       "      <td>5.4</td>\n",
       "      <td>1</td>\n",
       "    </tr>\n",
       "    <tr>\n",
       "      <th>56</th>\n",
       "      <td>53.29</td>\n",
       "      <td>7.3</td>\n",
       "      <td>1</td>\n",
       "    </tr>\n",
       "    <tr>\n",
       "      <th>126</th>\n",
       "      <td>60.84</td>\n",
       "      <td>7.8</td>\n",
       "      <td>1</td>\n",
       "    </tr>\n",
       "    <tr>\n",
       "      <th>...</th>\n",
       "      <td>...</td>\n",
       "      <td>...</td>\n",
       "      <td>...</td>\n",
       "    </tr>\n",
       "    <tr>\n",
       "      <th>98</th>\n",
       "      <td>83926.09</td>\n",
       "      <td>289.7</td>\n",
       "      <td>1</td>\n",
       "    </tr>\n",
       "    <tr>\n",
       "      <th>35</th>\n",
       "      <td>84506.49</td>\n",
       "      <td>290.7</td>\n",
       "      <td>1</td>\n",
       "    </tr>\n",
       "    <tr>\n",
       "      <th>30</th>\n",
       "      <td>85790.41</td>\n",
       "      <td>292.9</td>\n",
       "      <td>1</td>\n",
       "    </tr>\n",
       "    <tr>\n",
       "      <th>42</th>\n",
       "      <td>86200.96</td>\n",
       "      <td>293.6</td>\n",
       "      <td>1</td>\n",
       "    </tr>\n",
       "    <tr>\n",
       "      <th>101</th>\n",
       "      <td>87852.96</td>\n",
       "      <td>296.4</td>\n",
       "      <td>1</td>\n",
       "    </tr>\n",
       "  </tbody>\n",
       "</table>\n",
       "<p>200 rows × 3 columns</p>\n",
       "</div>"
      ],
      "text/plain": [
       "          TV2     TV  1's\n",
       "130      0.49    0.7    1\n",
       "155     16.81    4.1    1\n",
       "78      29.16    5.4    1\n",
       "56      53.29    7.3    1\n",
       "126     60.84    7.8    1\n",
       "..        ...    ...  ...\n",
       "98   83926.09  289.7    1\n",
       "35   84506.49  290.7    1\n",
       "30   85790.41  292.9    1\n",
       "42   86200.96  293.6    1\n",
       "101  87852.96  296.4    1\n",
       "\n",
       "[200 rows x 3 columns]"
      ]
     },
     "execution_count": 43,
     "metadata": {},
     "output_type": "execute_result"
    }
   ],
   "source": [
    "A=B[['TV2','TV',\"1's\"]]\n",
    "A"
   ]
  },
  {
   "cell_type": "code",
   "execution_count": 44,
   "id": "48bacee0",
   "metadata": {},
   "outputs": [
    {
     "data": {
      "text/html": [
       "<div>\n",
       "<style scoped>\n",
       "    .dataframe tbody tr th:only-of-type {\n",
       "        vertical-align: middle;\n",
       "    }\n",
       "\n",
       "    .dataframe tbody tr th {\n",
       "        vertical-align: top;\n",
       "    }\n",
       "\n",
       "    .dataframe thead th {\n",
       "        text-align: right;\n",
       "    }\n",
       "</style>\n",
       "<table border=\"1\" class=\"dataframe\">\n",
       "  <thead>\n",
       "    <tr style=\"text-align: right;\">\n",
       "      <th></th>\n",
       "      <th>Ventas</th>\n",
       "    </tr>\n",
       "  </thead>\n",
       "  <tbody>\n",
       "    <tr>\n",
       "      <th>130</th>\n",
       "      <td>1.6</td>\n",
       "    </tr>\n",
       "    <tr>\n",
       "      <th>155</th>\n",
       "      <td>3.2</td>\n",
       "    </tr>\n",
       "    <tr>\n",
       "      <th>78</th>\n",
       "      <td>5.3</td>\n",
       "    </tr>\n",
       "    <tr>\n",
       "      <th>56</th>\n",
       "      <td>5.5</td>\n",
       "    </tr>\n",
       "    <tr>\n",
       "      <th>126</th>\n",
       "      <td>6.6</td>\n",
       "    </tr>\n",
       "    <tr>\n",
       "      <th>...</th>\n",
       "      <td>...</td>\n",
       "    </tr>\n",
       "    <tr>\n",
       "      <th>98</th>\n",
       "      <td>25.4</td>\n",
       "    </tr>\n",
       "    <tr>\n",
       "      <th>35</th>\n",
       "      <td>12.8</td>\n",
       "    </tr>\n",
       "    <tr>\n",
       "      <th>30</th>\n",
       "      <td>21.4</td>\n",
       "    </tr>\n",
       "    <tr>\n",
       "      <th>42</th>\n",
       "      <td>20.7</td>\n",
       "    </tr>\n",
       "    <tr>\n",
       "      <th>101</th>\n",
       "      <td>23.8</td>\n",
       "    </tr>\n",
       "  </tbody>\n",
       "</table>\n",
       "<p>200 rows × 1 columns</p>\n",
       "</div>"
      ],
      "text/plain": [
       "     Ventas\n",
       "130     1.6\n",
       "155     3.2\n",
       "78      5.3\n",
       "56      5.5\n",
       "126     6.6\n",
       "..      ...\n",
       "98     25.4\n",
       "35     12.8\n",
       "30     21.4\n",
       "42     20.7\n",
       "101    23.8\n",
       "\n",
       "[200 rows x 1 columns]"
      ]
     },
     "execution_count": 44,
     "metadata": {},
     "output_type": "execute_result"
    }
   ],
   "source": [
    "y=B[['Ventas']]\n",
    "y"
   ]
  },
  {
   "cell_type": "code",
   "execution_count": 45,
   "id": "b632e9a7",
   "metadata": {},
   "outputs": [
    {
     "data": {
      "image/png": "[encoded data removed]",
      "text/plain": [
       "<Figure size 432x288 with 1 Axes>"
      ]
     },
     "metadata": {
      "needs_background": "light"
     },
     "output_type": "display_data"
    }
   ],
   "source": [
    "x=B.TV\n",
    "plt.plot(x,y,'b.',x,np.array(A.dot(sol)),'r')\n",
    "plt.show()"
   ]
  },
  {
   "cell_type": "code",
   "execution_count": 65,
   "id": "ce4f9525",
   "metadata": {},
   "outputs": [],
   "source": [
    "def RegresionPol(dataset,Vexplicativa,Vobjetivo,grado):\n",
    "    D=dataset[[Vexplicativa,Vobjetivo]]\n",
    "    D=D.sort_values(Vexplicativa)\n",
    "    x=D[[Vexplicativa]]\n",
    "    y=D[[Vobjetivo]]\n",
    "    A=x**0\n",
    "    for i in range(1,grado+1):\n",
    "        A=pd.concat([x**i,A],axis=1)\n",
    "    AA=np.transpose(A).dot(A)\n",
    "    b=np.transpose(A).dot(y)\n",
    "    sol=np.linalg.solve(AA,b)\n",
    "    res=np.linalg.norm(np.array(A.dot(sol))-np.array(y))\n",
    "    return x,y,A,sol,res"
   ]
  },
  {
   "cell_type": "code",
   "execution_count": 66,
   "id": "901d060e",
   "metadata": {},
   "outputs": [
    {
     "name": "stdout",
     "output_type": "stream",
     "text": [
      "45.428323830518906\n"
     ]
    },
    {
     "data": {
      "image/png": "[encoded data removed]",
      "text/plain": [
       "<Figure size 432x288 with 1 Axes>"
      ]
     },
     "metadata": {
      "needs_background": "light"
     },
     "output_type": "display_data"
    }
   ],
   "source": [
    "x,y,A,sol,res=RegresionPol(D,'TV','Sales',2)\n",
    "print(res)\n",
    "plt.plot(x,y,'b.',x,np.array(A).dot(sol),'r')\n",
    "plt.show()"
   ]
  },
  {
   "cell_type": "code",
   "execution_count": 68,
   "id": "dc7dce1e",
   "metadata": {},
   "outputs": [
    {
     "name": "stdout",
     "output_type": "stream",
     "text": [
      "44.74839195257017\n"
     ]
    },
    {
     "data": {
      "image/png": "[encoded data removed]",
      "text/plain": [
       "<Figure size 432x288 with 1 Axes>"
      ]
     },
     "metadata": {
      "needs_background": "light"
     },
     "output_type": "display_data"
    }
   ],
   "source": [
    "x,y,A,sol,res=RegresionPol(D,'TV','Sales',10)\n",
    "print(res)\n",
    "plt.plot(x,y,'b.',x,np.array(A).dot(sol),'r')\n",
    "plt.show()"
   ]
  },
  {
   "cell_type": "code",
   "execution_count": null,
   "id": "96bab6ff",
   "metadata": {},
   "outputs": [],
   "source": []
  }
 ],
 "metadata": {
  "kernelspec": {
   "display_name": "Python 3 (ipykernel)",
   "language": "python",
   "name": "python3"
  },
  "language_info": {
   "codemirror_mode": {
    "name": "ipython",
    "version": 3
   },
   "file_extension": ".py",
   "mimetype": "text/x-python",
   "name": "python",
   "nbconvert_exporter": "python",
   "pygments_lexer": "ipython3",
   "version": "3.8.5"
  }
 },
 "nbformat": 4,
 "nbformat_minor": 5
}
